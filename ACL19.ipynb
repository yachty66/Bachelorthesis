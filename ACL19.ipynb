{
 "cells": [
  {
   "cell_type": "code",
   "execution_count": 108,
   "metadata": {},
   "outputs": [
    {
     "data": {
      "text/plain": [
       "'\\n1. split pandas dataframe on \\x000 value -\\n2. iter over each line - \\n3. check if attribute appears from second position in first part of line - \\n4. if no drop this line - \\n4. store this df in a separate dataframe\\n6. if yes substitute attribute with value from second part of line\\n7. tokenize each line \\n8. create a json file with df from step 4 with sentence and tokens\\n'"
      ]
     },
     "execution_count": 108,
     "metadata": {},
     "output_type": "execute_result"
    }
   ],
   "source": [
    "'''\n",
    "1. split pandas dataframe on \\0000 value -\n",
    "2. iter over each line - \n",
    "3. check if attribute appears from second position in first part of line - \n",
    "4. if no drop this line - \n",
    "4. store this df in a separate dataframe\n",
    "6. if yes substitute attribute with value from second part of line\n",
    "7. tokenize each line \n",
    "8. create a json file with df from step 4 with sentence and tokens\n",
    "'''"
   ]
  },
  {
   "cell_type": "code",
   "execution_count": 109,
   "metadata": {},
   "outputs": [],
   "source": [
    "import pandas as pd \n",
    "import nltk\n",
    "#nltk.download('all')"
   ]
  },
  {
   "cell_type": "code",
   "execution_count": 110,
   "metadata": {},
   "outputs": [
    {
     "name": "stdout",
     "output_type": "stream",
     "text": [
      "                                                   0           1    2\n",
      "0  APG STO0045  Camping Stove Portable Cooking Eq...        Fuel  Gas\n",
      "1  APG STO0045  Camping Stove Portable Cooking Eq...  Brand Name  APG\n",
      "2  APG STO0045  Camping Stove Portable Cooking Eq...       Model  NaN\n",
      "3  APG STO0045  Camping Stove Portable Cooking Eq...  Disposable  NaN\n",
      "4  80LUX Mini Portable Camping Lantern Gas Light ...    Material  NaN\n"
     ]
    }
   ],
   "source": [
    "# load data from data/paper folder\n",
    "data = pd.read_csv('data/ACL19.txt', sep='\\u0001', header=None)\n",
    "print(data.head()) "
   ]
  },
  {
   "cell_type": "code",
   "execution_count": 111,
   "metadata": {},
   "outputs": [],
   "source": [
    "#error says me that string is expected and not float. this means a row which i get contains of a float and not string\n",
    "\n",
    "#nowm\n"
   ]
  },
  {
   "cell_type": "code",
   "execution_count": 112,
   "metadata": {},
   "outputs": [],
   "source": [
    "def process_row(row):\n",
    "    if str(row[2]) not in str(row[0]):\n",
    "        return False\n",
    "    else:\n",
    "        if str(row[2]) in str(row[0]):\n",
    "            row = row[0].replace(str(row[2]), str(row[1]))\n",
    "            return row \n",
    "\n",
    "        \n",
    "        \n",
    "# now i need to apply this method to each line and if the method returns False than drop this line from the df else replace row with returnt row               \n",
    "data_new = data.apply(process_row, axis=1)\n",
    "#result from above should be a df where some rows are == False\n",
    "\n",
    "#remove rows where value == False\n",
    "data_new = data_new[data_new != False]"
   ]
  },
  {
   "cell_type": "code",
   "execution_count": 113,
   "metadata": {},
   "outputs": [
    {
     "name": "stdout",
     "output_type": "stream",
     "text": [
      "0    APG STO0045  Camping Stove Portable Cooking Eq...\n",
      "1    Brand Name STO0045  Camping Stove Portable Coo...\n",
      "5    Model Card furnace Windproof Portable Stoves G...\n",
      "6    BDZ-160-A Card furnace Windproof Portable Stov...\n",
      "7    BDZ-160-A Card furnace Windproof Portable Stov...\n",
      "dtype: object\n"
     ]
    }
   ],
   "source": [
    "#print first element in first line of df\n",
    "print(data_new.head())"
   ]
  },
  {
   "cell_type": "code",
   "execution_count": 114,
   "metadata": {},
   "outputs": [],
   "source": [
    "#tokenize dataframe\n",
    "#nltk.download('all')\n",
    "#what i want basically is to take all my words and than to turn each word into a number\n",
    "#than i can iterate over the df and turn a word which is not in the attributes list into a zero\n",
    "#if a word is in the list than i can substitute this word with \n",
    "\n",
    "\n",
    "#is there no method for turning each word from a dataset into a number were the same words getting the same number?\n",
    "#Which method is used for \n",
    "data_new = data_new.apply(nltk.word_tokenize)\n",
    "\n",
    "#i want to make and all the attributes to numbers and than I want \n",
    "data_new = data_new.apply(nltk.pos_tag)"
   ]
  },
  {
   "cell_type": "code",
   "execution_count": 115,
   "metadata": {},
   "outputs": [
    {
     "name": "stdout",
     "output_type": "stream",
     "text": [
      "0    [(APG, NNP), (STO0045, NNP), (Camping, NNP), (...\n",
      "1    [(Brand, NNP), (Name, NNP), (STO0045, NNP), (C...\n",
      "5    [(Model, NNP), (Card, NNP), (furnace, NN), (Wi...\n",
      "6    [(BDZ-160-A, NNP), (Card, NNP), (furnace, NN),...\n",
      "7    [(BDZ-160-A, NNP), (Card, NNP), (furnace, NN),...\n",
      "dtype: object\n"
     ]
    }
   ],
   "source": [
    "print(data_new.head())\n",
    "#turn into number tokens\n"
   ]
  },
  {
   "cell_type": "code",
   "execution_count": 116,
   "metadata": {},
   "outputs": [
    {
     "name": "stdout",
     "output_type": "stream",
     "text": [
      "0    [(APG, NNP), (STO0045, NNP), (Camping, NNP), (...\n",
      "1    [(Brand, NNP), (Name, NNP), (STO0045, NNP), (C...\n",
      "5    [(Model, NNP), (Card, NNP), (furnace, NN), (Wi...\n",
      "6    [(BDZ-160-A, NNP), (Card, NNP), (furnace, NN),...\n",
      "7    [(BDZ-160-A, NNP), (Card, NNP), (furnace, NN),...\n",
      "dtype: object\n"
     ]
    }
   ],
   "source": [
    "print(data_new.head())"
   ]
  },
  {
   "cell_type": "code",
   "execution_count": null,
   "metadata": {},
   "outputs": [],
   "source": []
  }
 ],
 "metadata": {
  "kernelspec": {
   "display_name": "thesis",
   "language": "python",
   "name": "thesis"
  },
  "language_info": {
   "codemirror_mode": {
    "name": "ipython",
    "version": 3
   },
   "file_extension": ".py",
   "mimetype": "text/x-python",
   "name": "python",
   "nbconvert_exporter": "python",
   "pygments_lexer": "ipython3",
   "version": "3.10.8"
  },
  "orig_nbformat": 4,
  "vscode": {
   "interpreter": {
    "hash": "b0fa6594d8f4cbf19f97940f81e996739fb7646882a419484c72d19e05852a7e"
   }
  }
 },
 "nbformat": 4,
 "nbformat_minor": 2
}
